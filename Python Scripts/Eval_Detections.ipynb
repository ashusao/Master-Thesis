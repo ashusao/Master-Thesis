{
 "cells": [
  {
   "cell_type": "code",
   "execution_count": 1,
   "metadata": {
    "collapsed": true
   },
   "outputs": [],
   "source": [
    "import numpy as np\n",
    "import pandas as pd\n",
    "import matplotlib.pyplot as plt\n",
    "import matplotlib\n",
    "import xml.etree.ElementTree as ET\n",
    "import os,sys"
   ]
  },
  {
   "cell_type": "markdown",
   "metadata": {},
   "source": [
    "- Function to caculate average precision given precision and recall at each point"
   ]
  },
  {
   "cell_type": "code",
   "execution_count": 2,
   "metadata": {
    "collapsed": true
   },
   "outputs": [],
   "source": [
    "def compute_average_prec(rec, prec):\n",
    "    \n",
    "    # Correct Method\n",
    "    mrec = np.concatenate(([0.], rec, [1.]))\n",
    "    mpre = np.concatenate(([0.], prec, [0.]))\n",
    "\n",
    "    # compute the precision envelope\n",
    "    for i in range(mpre.size - 1, 0, -1):\n",
    "         mpre[i - 1] = np.maximum(mpre[i - 1], mpre[i])\n",
    "\n",
    "    # to calculate area under PR curve, look for points\n",
    "    # where X axis (recall) changes value\n",
    "    i = np.where(mrec[1:] != mrec[:-1])[0]\n",
    "\n",
    "    # and sum (\\Delta recall) * prec\n",
    "    ap = np.sum((mrec[i + 1] - mrec[i]) * mpre[i + 1])\n",
    "    return ap"
   ]
  },
  {
   "cell_type": "markdown",
   "metadata": {},
   "source": [
    "- Parse the annotaion file and returns list of objects (each object is a dict) present in the image "
   ]
  },
  {
   "cell_type": "code",
   "execution_count": 3,
   "metadata": {
    "collapsed": true
   },
   "outputs": [],
   "source": [
    "def parse_rec(filename):\n",
    "    \"\"\" Parse a stateDetection xml file \"\"\"\n",
    "    tree = ET.parse(filename)\n",
    "    objects = []\n",
    "    for obj in tree.findall('object'):\n",
    "        obj_struct = {}\n",
    "        obj_struct['name'] = obj.find('name').text\n",
    "        obj_struct['difficult'] = int(obj.find('difficult').text)\n",
    "        bbox = obj.find('bndbox')\n",
    "        obj_struct['bbox'] = [int(bbox.find('xmin').text),\n",
    "                              int(bbox.find('ymin').text),\n",
    "                              int(bbox.find('xmax').text),\n",
    "                              int(bbox.find('ymax').text)]\n",
    "        objects.append(obj_struct)\n",
    "\n",
    "    return objects"
   ]
  },
  {
   "cell_type": "markdown",
   "metadata": {},
   "source": [
    "- Read all annotations \n",
    "- save it in dictionary (key: imagename, val: list of dictionary representing all objects of image)"
   ]
  },
  {
   "cell_type": "code",
   "execution_count": 4,
   "metadata": {},
   "outputs": [
    {
     "name": "stdout",
     "output_type": "stream",
     "text": [
      "Reading annotation for 1/4874\n",
      "Reading annotation for 1001/4874\n",
      "Reading annotation for 2001/4874\n",
      "Reading annotation for 3001/4874\n",
      "Reading annotation for 4001/4874\n",
      "4874\n"
     ]
    }
   ],
   "source": [
    "# path to image set file name train/val.txt contains image name in each line\n",
    "imagesetfile = '/home/ashu/Study Material/Uni Bonn/4th Semester/Thesis/DataSet/coco-master/ImageSets/Main/val.txt'\n",
    "\n",
    "with open(imagesetfile, 'r') as f:\n",
    "        lines = f.readlines()\n",
    "imagenames = [x.strip() for x in lines]\n",
    "\n",
    "annopath = os.path.join(\n",
    "            'Annotations',\n",
    "            '{:s}.xml')\n",
    "#load all annotations \n",
    "recs = {}\n",
    "for i, imagename in enumerate(imagenames):\n",
    "    recs[imagename] = parse_rec(annopath.format(imagename))\n",
    "    if i % 1000 == 0:\n",
    "        print 'Reading annotation for {:d}/{:d}'.format(\n",
    "                i + 1, len(imagenames))\n",
    "print len(recs)"
   ]
  },
  {
   "cell_type": "markdown",
   "metadata": {},
   "source": [
    "- class_recs : contains filtered gt data for the specified class only"
   ]
  },
  {
   "cell_type": "code",
   "execution_count": 153,
   "metadata": {
    "collapsed": true
   },
   "outputs": [],
   "source": [
    "#state_name = 'openLaptop'\n",
    "class_name = 'umbrella'\n",
    "#Extract gt objects of this state only\n",
    "class_recs = {}\n",
    "npos = 0\n",
    "for imagename in imagenames:\n",
    "        R = [obj for obj in recs[imagename] if obj['name'].split('_')[0] == class_name]\n",
    "        \n",
    "        bbox = np.array([x['bbox'] for x in R])\n",
    "        det = [False] * len(R)\n",
    "        \n",
    "        difficult = np.array([x['difficult'] for x in R]).astype(np.bool)\n",
    "        npos = npos + sum(~difficult)\n",
    "        class_recs[imagename] = {'bbox': bbox, # all gt bbox of image\n",
    "                                 'difficult': difficult,  # every object is marked as not difficult\n",
    "                                 'det': det}   # mark as detected or not"
   ]
  },
  {
   "cell_type": "markdown",
   "metadata": {},
   "source": [
    "- Just for sanity check no of bbox in specified class must be equal to number of objects in val set"
   ]
  },
  {
   "cell_type": "code",
   "execution_count": 154,
   "metadata": {},
   "outputs": [
    {
     "name": "stdout",
     "output_type": "stream",
     "text": [
      "Total objects in  umbrella :  3935\n"
     ]
    }
   ],
   "source": [
    "# check number of bbox in class, must be equal to number of objects in val set of that class\n",
    "count = 0\n",
    "for imagename in imagenames:\n",
    "    R = class_recs[imagename]\n",
    "    BBGT = R['bbox'].astype(float)\n",
    "    if BBGT.size > 0: # i.e. image contains the box\n",
    "        count += len(BBGT)\n",
    "print 'Total objects in ', class_name, ': ', count"
   ]
  },
  {
   "cell_type": "markdown",
   "metadata": {},
   "source": [
    "- specify the generated detections (Open / Close) file"
   ]
  },
  {
   "cell_type": "code",
   "execution_count": 155,
   "metadata": {},
   "outputs": [
    {
     "name": "stdout",
     "output_type": "stream",
     "text": [
      "cls_det_frm_state/concat_fc7_cls_bbox/umbrella.txt\n"
     ]
    }
   ],
   "source": [
    "# Root folder for Detections\n",
    "classifier_type = 'gen'\n",
    "caffe_root = '/home/ashu/Desktop/Thesis Work/Classifier/caffe/'\n",
    "images_root = '/home/ashu/Study Material/Uni Bonn/4th Semester/Thesis/DataSet/coco-master/JPEGImages/'\n",
    "\n",
    "if class_name == 'scissors':\n",
    "    class_name = 'scissor'\n",
    "\n",
    "det_file = 'cls_det_frm_state/concat_fc7_cls_bbox/' + class_name + '.txt'\n",
    "#det_file = caffe_root + 'models/gt_classifier/gen_' + class_name + '/detections/'  \\\n",
    "#            + classifier_type + '_val_' + state_name + '.txt'\n",
    "    \n",
    "print det_file"
   ]
  },
  {
   "cell_type": "markdown",
   "metadata": {},
   "source": [
    "- Read the detection and remove new line at end of each scentece from it"
   ]
  },
  {
   "cell_type": "code",
   "execution_count": 156,
   "metadata": {},
   "outputs": [
    {
     "name": "stdout",
     "output_type": "stream",
     "text": [
      "['COCO_val2014_000000568337 0.268 22.0 70.2 162.8 154.8'\n",
      " 'COCO_val2014_000000568337 0.154 156.4 227.8 351.7 399.5'\n",
      " 'COCO_val2014_000000568337 0.089 33.9 65.5 362.7 427.9'] ['COCO_val2014_000000210342 0.141 261.1 117.5 551.5 318.7'\n",
      " 'COCO_val2014_000000210342 0.063 518.3 357.4 541.4 401.4'\n",
      " 'COCO_val2014_000000534784 0.051 356.8 303.8 383.2 349.3']\n"
     ]
    }
   ],
   "source": [
    "# load detections\n",
    "#open_file = os.path.join('det_val','det_val_laptop_closedLaptop.txt')\n",
    "#close_file = os.path.join('det_val','det_val_laptop_openLaptop.txt')\n",
    "\n",
    "with open(det_file, 'r') as f:\n",
    "    lines = np.array(f.readlines())\n",
    "\n",
    "remove_new_line = np.vectorize(lambda x: x.strip())\n",
    "\n",
    "lines = remove_new_line(lines)\n",
    "\n",
    "print lines[:3], lines[-3:]"
   ]
  },
  {
   "cell_type": "markdown",
   "metadata": {},
   "source": [
    "- Loop through detection\n",
    "- calculate IoU overlap\n",
    "- Mark tp and fp\n",
    "- calulate prec and recall at each point"
   ]
  },
  {
   "cell_type": "code",
   "execution_count": 157,
   "metadata": {},
   "outputs": [
    {
     "name": "stdout",
     "output_type": "stream",
     "text": [
      "23115\n"
     ]
    }
   ],
   "source": [
    "ovthresh = 0.5\n",
    "splitlines = [x.strip().split(' ') for x in lines]\n",
    "image_ids = [x[0] for x in splitlines]\n",
    "confidence = np.array([float(x[1]) for x in splitlines])\n",
    "BB = np.array([[float(z) for z in x[2:6]] for x in splitlines])\n",
    "\n",
    "# sort by confidence\n",
    "sorted_ind = np.argsort(-confidence)\n",
    "sorted_scores = np.sort(-confidence)\n",
    "BB = BB[sorted_ind, :]\n",
    "image_ids = [image_ids[x] for x in sorted_ind]\n",
    "\n",
    "# go down dets and mark TPs and FPs\n",
    "nd = len(image_ids)\n",
    "tp = np.zeros(nd)\n",
    "fp = np.zeros(nd)\n",
    "\n",
    "print nd\n",
    "# looping through detections\n",
    "for d in range(nd):\n",
    "    R = class_recs[image_ids[d]]\n",
    "    bb = BB[d, :].astype(float) # Detected bbox\n",
    "    ovmax = -np.inf\n",
    "    BBGT = R['bbox'].astype(float) # GT bboxes for same image\n",
    "\n",
    "    if BBGT.size > 0:\n",
    "        # compute overlaps\n",
    "        # intersection\n",
    "        ixmin = np.maximum(BBGT[:, 0], bb[0])\n",
    "        iymin = np.maximum(BBGT[:, 1], bb[1])\n",
    "        ixmax = np.minimum(BBGT[:, 2], bb[2])\n",
    "        iymax = np.minimum(BBGT[:, 3], bb[3])\n",
    "        iw = np.maximum(ixmax - ixmin + 1., 0.)\n",
    "        ih = np.maximum(iymax - iymin + 1., 0.)\n",
    "        inters = iw * ih\n",
    "\n",
    "        # union\n",
    "        uni = ((bb[2] - bb[0] + 1.) * (bb[3] - bb[1] + 1.) +\n",
    "               (BBGT[:, 2] - BBGT[:, 0] + 1.) *\n",
    "                (BBGT[:, 3] - BBGT[:, 1] + 1.) - inters)\n",
    "\n",
    "        overlaps = inters / uni\n",
    "        ovmax = np.max(overlaps)  # taking the gt bbox that has max overlap\n",
    "        jmax = np.argmax(overlaps)  # taking the index of max overlap bbox\n",
    "    \n",
    "    # check if IoU crosses threshold\n",
    "    if ovmax > ovthresh:\n",
    "        if not R['difficult'][jmax]:\n",
    "            if not R['det'][jmax]:\n",
    "                tp[d] = 1.\n",
    "                R['det'][jmax] = 1 # marking that bbox as detected\n",
    "            else:\n",
    "                fp[d] = 1\n",
    "    else:\n",
    "       fp[d] = 1 \n",
    "\n",
    "fp = np.cumsum(fp)\n",
    "tp = np.cumsum(tp)\n",
    "rec = tp / float(npos)\n",
    "# avoid divide by zero in case the first detection matches a difficult\n",
    "prec = tp / np.maximum(tp + fp, np.finfo(np.float64).eps)"
   ]
  },
  {
   "cell_type": "markdown",
   "metadata": {},
   "source": [
    "- calculate the avergae precision."
   ]
  },
  {
   "cell_type": "code",
   "execution_count": 158,
   "metadata": {},
   "outputs": [
    {
     "name": "stdout",
     "output_type": "stream",
     "text": [
      "Average Precision for umbrella :  0.35333292225\n"
     ]
    }
   ],
   "source": [
    "ap = compute_average_prec(rec, prec)\n",
    "print 'Average Precision for ' + class_name + ' : ', ap"
   ]
  }
 ],
 "metadata": {
  "kernelspec": {
   "display_name": "Python 2",
   "language": "python",
   "name": "python2"
  },
  "language_info": {
   "codemirror_mode": {
    "name": "ipython",
    "version": 2
   },
   "file_extension": ".py",
   "mimetype": "text/x-python",
   "name": "python",
   "nbconvert_exporter": "python",
   "pygments_lexer": "ipython2",
   "version": "2.7.12"
  }
 },
 "nbformat": 4,
 "nbformat_minor": 2
}
