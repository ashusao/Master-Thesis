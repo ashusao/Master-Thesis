{
 "cells": [
  {
   "cell_type": "code",
   "execution_count": 10,
   "metadata": {},
   "outputs": [
    {
     "name": "stdout",
     "output_type": "stream",
     "text": [
      "/home/ashu/Desktop/Thesis Work/Classifier/caffe/models/script\n"
     ]
    }
   ],
   "source": [
    "import os, sys\n",
    "import numpy as np\n",
    "import pandas as pd\n",
    "\n",
    "import matplotlib\n",
    "%matplotlib inline\n",
    "#matplotlib.use('Agg')\n",
    "import matplotlib.pyplot as plt\n",
    "\n",
    "plt.style.use('ggplot')\n",
    "\n",
    "caffe_root = '/home/ashu/Desktop/Thesis Work/Classifier/caffe/'\n",
    "print os.getcwd()\n",
    "sys.path.insert(0, caffe_root + 'python')\n",
    "import caffe\n",
    "\n",
    "import argparse\n",
    "\n",
    "from caffe.proto import caffe_pb2\n",
    "import google.protobuf as pb2\n",
    "import google.protobuf.text_format\n",
    "\n",
    "import lmdb"
   ]
  },
  {
   "cell_type": "markdown",
   "metadata": {},
   "source": [
    "- Load labels and save it in list"
   ]
  },
  {
   "cell_type": "code",
   "execution_count": 37,
   "metadata": {},
   "outputs": [
    {
     "name": "stdout",
     "output_type": "stream",
     "text": [
      "3935\n",
      "['COCO_val2014_000000497032_0.jpg 1', 'COCO_val2014_000000455157_0.jpg 0', 'COCO_val2014_000000193122_0.jpg 0', 'COCO_val2014_000000193122_1.jpg 0', 'COCO_val2014_000000193122_2.jpg 0']\n"
     ]
    }
   ],
   "source": [
    "obj_name = 'umbrella'\n",
    "img_dir = caffe_root + 'data/gt_data/images/val/' + obj_name + '/'\n",
    "label_file = caffe_root + 'data/gt_data/labels/' + obj_name + '_val.txt'\n",
    "\n",
    "# read the labels file\n",
    "with open(label_file, 'r') as f:\n",
    "    data=f.readlines()\n",
    "\n",
    "data = [x.strip() for x in data] \n",
    "print len(data)\n",
    "print data[:5]"
   ]
  },
  {
   "cell_type": "markdown",
   "metadata": {},
   "source": [
    "- Load model and prototxt"
   ]
  },
  {
   "cell_type": "code",
   "execution_count": 38,
   "metadata": {
    "collapsed": true
   },
   "outputs": [],
   "source": [
    "caffe.set_mode_gpu()\n",
    "\n",
    "c_type = 'gt'\n",
    "max_iter = '20000'\n",
    "best_iter = '5000'\n",
    "# Modify the paths given below\n",
    "deploy_prototxt_file_path = caffe_root + 'models/' + c_type + '_classifier/' + obj_name +  \\\n",
    "                            '/test.prototxt' # Network definition file\n",
    "# load each caffe model\n",
    "caffe_model_file_path = caffe_root + 'models/gt_classifier/' + obj_name +  '/trained_model/' + \\\n",
    "                        max_iter + '/gt_' + obj_name + '_' +  max_iter + \\\n",
    "                        '_iter_' + best_iter + '.caffemodel'\n",
    "net = caffe.Net(deploy_prototxt_file_path, caffe_model_file_path, caffe.TEST)"
   ]
  },
  {
   "cell_type": "markdown",
   "metadata": {},
   "source": [
    "- set the transformer"
   ]
  },
  {
   "cell_type": "code",
   "execution_count": 39,
   "metadata": {},
   "outputs": [
    {
     "name": "stdout",
     "output_type": "stream",
     "text": [
      "mean-subtracted values: [('B', 104.0069879317889), ('G', 116.66876761696767), ('R', 122.6789143406786)]\n"
     ]
    }
   ],
   "source": [
    "# load the mean ImageNet image (as distributed with Caffe) for subtraction\n",
    "mu = np.load(caffe_root + 'python/caffe/imagenet/ilsvrc_2012_mean.npy')\n",
    "mu = mu.mean(1).mean(1)  # average over pixels to obtain the mean (BGR) pixel values\n",
    "print 'mean-subtracted values:', zip('BGR', mu)\n",
    "\n",
    "# create transformer for the input called 'data'\n",
    "transformer = caffe.io.Transformer({'data': net.blobs['data'].data.shape})\n",
    "\n",
    "transformer.set_transpose('data', (2,0,1))  # move image channels to outermost dimension\n",
    "transformer.set_mean('data', mu)            # subtract the dataset-mean value in each channel\n",
    "transformer.set_raw_scale('data', 255)      # rescale from [0, 1] to [0, 255]\n",
    "transformer.set_channel_swap('data', (2,1,0))  # swap channels from RGB to BGR\n",
    "\n",
    "net.blobs['data'].reshape(1,        # batch size\n",
    "                          3,         # 3-channel (BGR) images\n",
    "                          224, 224)  # image size is 227x227"
   ]
  },
  {
   "cell_type": "markdown",
   "metadata": {},
   "source": [
    "- iterate through images and save fc7 and its gt label"
   ]
  },
  {
   "cell_type": "code",
   "execution_count": 40,
   "metadata": {},
   "outputs": [
    {
     "name": "stdout",
     "output_type": "stream",
     "text": [
      "fc7: \n",
      "[array([[ 0.       ,  0.       ,  0.       , ...,  0.1332878,  0.       ,\n",
      "         1.9835149]], dtype=float32), array([[ 0.        ,  0.        ,  0.        , ...,  0.        ,\n",
      "         0.        ,  1.83259046]], dtype=float32), array([[ 0.        ,  0.        ,  0.        , ...,  0.        ,\n",
      "         0.        ,  1.22264707]], dtype=float32), array([[ 3.62063861,  0.        ,  0.        , ...,  0.        ,\n",
      "         0.        ,  0.20422645]], dtype=float32)]\n"
     ]
    }
   ],
   "source": [
    "fc7_vectors = []\n",
    "label_list = []\n",
    "for val in data:\n",
    "    img, lbl = val.split(' ')\n",
    "    \n",
    "    # load image, transform and feed forward\n",
    "    image = caffe.io.load_image(img_dir + img)\n",
    "    transformed_image = transformer.preprocess('data', image)\n",
    "    net.blobs['data'].data[...] = transformed_image\n",
    "    output = net.forward()\n",
    "    \n",
    "    # save generated fc7 and its state\n",
    "    fc7_vectors.append(net.blobs['fc7'].data.copy())\n",
    "    label_list.append(lbl)\n",
    "    \n",
    "print 'fc7: \\n', fc7_vectors[-4:]\n",
    "#print 'labels ', label_list[:30]"
   ]
  },
  {
   "cell_type": "code",
   "execution_count": 41,
   "metadata": {},
   "outputs": [
    {
     "name": "stdout",
     "output_type": "stream",
     "text": [
      "/home/ashu/Desktop/Thesis Work/Classifier/caffe/models/gt_classifier/umbrella/fc7/ /home/ashu/Desktop/Thesis Work/Classifier/caffe/models/gt_classifier/umbrella/fc7/gt_fc7_umbrella.pkl /home/ashu/Desktop/Thesis Work/Classifier/caffe/models/gt_classifier/umbrella/fc7/gt_label_umbrella.pkl\n"
     ]
    }
   ],
   "source": [
    "fc7_dir = caffe_root + 'models/' + c_type + '_classifier/' + obj_name + '/fc7/'\n",
    "if not os.path.exists(fc7_dir):\n",
    "    os.makedirs(fc7_dir)\n",
    "    \n",
    "fc7_file = fc7_dir + c_type + '_fc7_' + obj_name + '.pkl'\n",
    "lbl_file = fc7_dir + c_type + '_label_' + obj_name + '.pkl'\n",
    "\n",
    "print fc7_dir, fc7_file, lbl_file"
   ]
  },
  {
   "cell_type": "code",
   "execution_count": null,
   "metadata": {
    "collapsed": true
   },
   "outputs": [],
   "source": [
    "import pickle\n",
    "\n",
    "# dump fc7 features\n",
    "fileObject = open(fc7_file,'wb')\n",
    "pickle.dump(fc7_vectors,fileObject)\n",
    "fileObject.close()\n",
    "\n",
    "# dump state labels\n",
    "fileObject = open(lbl_file,'wb')\n",
    "pickle.dump(label_list,fileObject)\n",
    "fileObject.close()"
   ]
  }
 ],
 "metadata": {
  "kernelspec": {
   "display_name": "Python 2",
   "language": "python",
   "name": "python2"
  },
  "language_info": {
   "codemirror_mode": {
    "name": "ipython",
    "version": 2
   },
   "file_extension": ".py",
   "mimetype": "text/x-python",
   "name": "python",
   "nbconvert_exporter": "python",
   "pygments_lexer": "ipython2",
   "version": "2.7.12"
  }
 },
 "nbformat": 4,
 "nbformat_minor": 2
}
