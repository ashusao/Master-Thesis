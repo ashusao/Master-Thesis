{
 "cells": [
  {
   "cell_type": "code",
   "execution_count": 31,
   "metadata": {
    "collapsed": true
   },
   "outputs": [],
   "source": [
    "import numpy as np\n",
    "import pandas as pd\n",
    "import matplotlib.pyplot as plt\n",
    "import matplotlib\n",
    "import glob\n",
    "import xml.etree.ElementTree as ET\n",
    "import fnmatch\n",
    "import os,sys\n",
    "import random\n",
    "from PIL import Image"
   ]
  },
  {
   "cell_type": "code",
   "execution_count": 32,
   "metadata": {
    "collapsed": true
   },
   "outputs": [],
   "source": [
    "def parse_rec(filename):\n",
    "    \"\"\" Parse a stateDetection xml file \"\"\"\n",
    "    tree = ET.parse(filename)\n",
    "    objects = []\n",
    "    for obj in tree.findall('object'):\n",
    "        obj_struct = {}\n",
    "        obj_struct['name'] = obj.find('name').text\n",
    "        obj_struct['difficult'] = int(obj.find('difficult').text)\n",
    "        bbox = obj.find('bndbox')\n",
    "        obj_struct['bbox'] = [int(bbox.find('xmin').text),\n",
    "                              int(bbox.find('ymin').text),\n",
    "                              int(bbox.find('xmax').text),\n",
    "                              int(bbox.find('ymax').text)]\n",
    "        objects.append(obj_struct)\n",
    "\n",
    "    return objects"
   ]
  },
  {
   "cell_type": "code",
   "execution_count": 33,
   "metadata": {},
   "outputs": [
    {
     "name": "stdout",
     "output_type": "stream",
     "text": [
      "Reading annotation for 1/9662\n",
      "Reading annotation for 1001/9662\n",
      "Reading annotation for 2001/9662\n",
      "Reading annotation for 3001/9662\n",
      "Reading annotation for 4001/9662\n",
      "Reading annotation for 5001/9662\n",
      "Reading annotation for 6001/9662\n",
      "Reading annotation for 7001/9662\n",
      "Reading annotation for 8001/9662\n",
      "Reading annotation for 9001/9662\n",
      "9662\n"
     ]
    }
   ],
   "source": [
    "# path to image set file name train/val.txt contains image name in each line\n",
    "imagesetfile = '/home/ashu/Study Material/Uni Bonn/4th Semester/Thesis/DataSet/coco-master/ImageSets/Main/train.txt'\n",
    "#imagesetfile = '/home/ashu/Study Material/Uni Bonn/4th Semester/Thesis/DataSet/coco-master/ImageSets/Main/sample_train.txt'\n",
    "with open(imagesetfile, 'r') as f:\n",
    "        lines = f.readlines()\n",
    "imagenames = [x.strip() for x in lines]\n",
    "\n",
    "annopath = os.path.join(\n",
    "            'Annotations',\n",
    "            '{:s}.xml')\n",
    "#load all annotations \n",
    "recs = {}\n",
    "for i, imagename in enumerate(imagenames):\n",
    "    recs[imagename] = parse_rec(annopath.format(imagename))\n",
    "    if i % 1000 == 0:\n",
    "        print 'Reading annotation for {:d}/{:d}'.format(\n",
    "                i + 1, len(imagenames))\n",
    "print len(recs)"
   ]
  },
  {
   "cell_type": "code",
   "execution_count": 58,
   "metadata": {},
   "outputs": [],
   "source": [
    "class_name = 'umbrella'\n",
    "\n",
    "#Extract gt objects of this class only\n",
    "class_recs = {}\n",
    "npos = 0\n",
    "for imagename in imagenames:\n",
    "        R = [obj for obj in recs[imagename] if obj['name'].split('_')[0] == class_name]\n",
    "        \n",
    "        #extracting state name\n",
    "        state = [x['name'].split('_')[1] for x in R]\n",
    "        bbox = np.array([x['bbox'] for x in R])\n",
    "        det = [False] * len(R)\n",
    "        \n",
    "        # generate state labels\n",
    "        label = np.array([0 if 'open' in st else 1 for st in state])  \n",
    "        #print state\n",
    "        #print label\n",
    "        difficult = np.array([x['difficult'] for x in R]).astype(np.bool)\n",
    "        npos = npos + sum(~difficult)\n",
    "        class_recs[imagename] = {'bbox': bbox, # all gt bbox of image\n",
    "                                 'difficult': difficult,  # every object is marked as not difficult\n",
    "                                 'det': det,    # mark all bbox as not detected\n",
    "                                 'label': label} # state labels for classifier\n",
    "        "
   ]
  },
  {
   "cell_type": "code",
   "execution_count": 59,
   "metadata": {},
   "outputs": [
    {
     "name": "stdout",
     "output_type": "stream",
     "text": [
      "Total objects in  umbrella :  7814\n"
     ]
    }
   ],
   "source": [
    "# check number of bbox in class, must be equal to number of objects in val set of that class\n",
    "count = 0\n",
    "for imagename in imagenames:\n",
    "    R = class_recs[imagename]\n",
    "    BBGT = R['bbox'].astype(float)\n",
    "    if BBGT.size > 0: # i.e. image contains the box\n",
    "        count += len(BBGT)\n",
    "print 'Total objects in ', class_name, ': ', count"
   ]
  },
  {
   "cell_type": "code",
   "execution_count": 60,
   "metadata": {},
   "outputs": [
    {
     "name": "stdout",
     "output_type": "stream",
     "text": [
      "det_train/det_train_umbrella.txt\n"
     ]
    }
   ],
   "source": [
    "# Root folder for Detections\n",
    "det_root = 'det_train'\n",
    "images_root = '/home/ashu/Study Material/Uni Bonn/4th Semester/Thesis/DataSet/coco-master/JPEGImages/'\n",
    "\n",
    "# creating file name for open and closed state\n",
    "if class_name == 'scissors':\n",
    "    class_name = 'scissor'\n",
    "    \n",
    "det_file = det_root + '/' + det_root + '_' + class_name  + '.txt'\n",
    "    \n",
    "print det_file"
   ]
  },
  {
   "cell_type": "code",
   "execution_count": 61,
   "metadata": {},
   "outputs": [
    {
     "name": "stdout",
     "output_type": "stream",
     "text": [
      "['COCO_train2014_000000296735 0.845 198.5 278.9 239.2 302.3'\n",
      " 'COCO_train2014_000000296735 0.382 190.7 268.7 286.0 297.4'\n",
      " 'COCO_train2014_000000296735 0.146 431.8 259.7 452.4 323.1'] ['COCO_train2014_000000042169 0.160 80.6 165.3 254.2 255.9'\n",
      " 'COCO_train2014_000000042169 0.125 40.3 383.9 143.2 444.5'\n",
      " 'COCO_train2014_000000042169 0.115 127.4 238.2 269.1 353.0']\n"
     ]
    }
   ],
   "source": [
    "# load detections\n",
    "#open_file = os.path.join('det_val','det_val_laptop_closedLaptop.txt')\n",
    "#close_file = os.path.join('det_val','det_val_laptop_openLaptop.txt')\n",
    "\n",
    "with open(det_file, 'r') as f:\n",
    "    lines = np.array(f.readlines())\n",
    "\n",
    "#with open(close_file, 'r') as f:\n",
    "#    close_det = np.array(f.readlines())\n",
    "\n",
    "remove_new_line = np.vectorize(lambda x: x.strip())\n",
    "\n",
    "lines = remove_new_line(lines)\n",
    "#Assign labels to Open and close detection open :0, close: 1\n",
    "#train_det = np.core.defchararray.add(remove_new_line(train_det), \" 0\")\n",
    "#close_det = np.core.defchararray.add(remove_new_line(close_det), \" 1\")\n",
    "\n",
    "#open_det = list(open_det)\n",
    "#close_det = list(close_det)\n",
    "\n",
    "# merge list\n",
    "#lines = open_det \n",
    "\n",
    "#print len(open_det),  len(lines)\n",
    "#print open_det[:3], close_det[-3:]\n",
    "print lines[:3], lines[-3:]"
   ]
  },
  {
   "cell_type": "code",
   "execution_count": 62,
   "metadata": {},
   "outputs": [
    {
     "name": "stdout",
     "output_type": "stream",
     "text": [
      "det_train/labels/umbrella_train.txt\n"
     ]
    }
   ],
   "source": [
    "# create folders for storing images and labels\n",
    "image_dir = det_root + '/images/' + class_name + '/'\n",
    "if not os.path.exists(image_dir):\n",
    "    os.makedirs(image_dir)\n",
    "        \n",
    "labels_dir = det_root + '/labels/'\n",
    "if not os.path.exists(labels_dir):\n",
    "    os.makedirs(labels_dir)\n",
    "    \n",
    "label_fileName = labels_dir + class_name + '_' + det_root[4:] + '.txt'\n",
    "print label_fileName"
   ]
  },
  {
   "cell_type": "code",
   "execution_count": 63,
   "metadata": {},
   "outputs": [
    {
     "name": "stdout",
     "output_type": "stream",
     "text": [
      "36965\n",
      "5491.0\n"
     ]
    }
   ],
   "source": [
    "ovthresh = 0.5\n",
    "splitlines = [x.strip().split(' ') for x in lines]\n",
    "image_ids = [x[0] for x in splitlines]\n",
    "confidence = np.array([float(x[1]) for x in splitlines])\n",
    "BB = np.array([[float(z) for z in x[2:6]] for x in splitlines])\n",
    "\n",
    "\n",
    "\n",
    "# sort by confidence\n",
    "sorted_ind = np.argsort(-confidence)\n",
    "sorted_scores = np.sort(-confidence)\n",
    "BB = BB[sorted_ind, :]\n",
    "image_ids = [image_ids[x] for x in sorted_ind]\n",
    "\n",
    "# go down dets and mark TPs and FPs\n",
    "nd = len(image_ids)\n",
    "tp = np.zeros(nd)\n",
    "fp = np.zeros(nd)\n",
    "\n",
    "print nd\n",
    "# looping through detections\n",
    "labels_list = []\n",
    "for d in range(nd):\n",
    "    R = class_recs[image_ids[d]]\n",
    "    bb = BB[d, :].astype(float) # Detected bbox\n",
    "    ovmax = -np.inf\n",
    "    BBGT = R['bbox'].astype(float) # GT bboxes for same image\n",
    "\n",
    "    if BBGT.size > 0:\n",
    "        # compute overlaps\n",
    "        # intersection\n",
    "        ixmin = np.maximum(BBGT[:, 0], bb[0])\n",
    "        iymin = np.maximum(BBGT[:, 1], bb[1])\n",
    "        ixmax = np.minimum(BBGT[:, 2], bb[2])\n",
    "        iymax = np.minimum(BBGT[:, 3], bb[3])\n",
    "        iw = np.maximum(ixmax - ixmin + 1., 0.)\n",
    "        ih = np.maximum(iymax - iymin + 1., 0.)\n",
    "        inters = iw * ih\n",
    "\n",
    "        # union\n",
    "        uni = ((bb[2] - bb[0] + 1.) * (bb[3] - bb[1] + 1.) +\n",
    "               (BBGT[:, 2] - BBGT[:, 0] + 1.) *\n",
    "                (BBGT[:, 3] - BBGT[:, 1] + 1.) - inters)\n",
    "\n",
    "        overlaps = inters / uni\n",
    "        ovmax = np.max(overlaps)  # taking the gt bbox that has max overlap\n",
    "        jmax = np.argmax(overlaps)  # taking the index of max overlap bbox\n",
    "    \n",
    "    # check if IoU crosses threshold\n",
    "    if ovmax > ovthresh:\n",
    "        tp[d] = 1.\n",
    "        R['det'][jmax] = 1 # marking that bbox as detected\n",
    "                    \n",
    "        # crop image, assign new name and save in folder\n",
    "        img = Image.open(images_root + image_ids[d] + '.jpg')\n",
    "        new_img = img.crop((bb[0], bb[1], bb[2], bb[3]))\n",
    "        new_img_name = image_ids[d] + '_' + str(d) + '.jpg'\n",
    "        new_img.save(image_dir + new_img_name)\n",
    "                \n",
    "        # generate labeland add to list\n",
    "        lbl = str(new_img_name + ' ' + str(R['label'][jmax]) + '\\n')\n",
    "        labels_list.append(lbl)\n",
    "\n",
    "    else:\n",
    "        fp[d] = 1.\n",
    "\n",
    "print np.sum(tp)\n",
    "#write labels into file\n",
    "with open(label_fileName, 'w+') as f:\n",
    "    for val in labels_list:\n",
    "        f.write(val)"
   ]
  }
 ],
 "metadata": {
  "kernelspec": {
   "display_name": "Python 2",
   "language": "python",
   "name": "python2"
  },
  "language_info": {
   "codemirror_mode": {
    "name": "ipython",
    "version": 2
   },
   "file_extension": ".py",
   "mimetype": "text/x-python",
   "name": "python",
   "nbconvert_exporter": "python",
   "pygments_lexer": "ipython2",
   "version": "2.7.12"
  }
 },
 "nbformat": 4,
 "nbformat_minor": 2
}
