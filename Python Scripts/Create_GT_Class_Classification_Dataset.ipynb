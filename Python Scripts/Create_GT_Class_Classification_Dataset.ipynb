{
 "cells": [
  {
   "cell_type": "code",
   "execution_count": 3,
   "metadata": {
    "collapsed": true
   },
   "outputs": [],
   "source": [
    "import numpy as np\n",
    "import pandas as pd\n",
    "import matplotlib.pyplot as plt\n",
    "import matplotlib\n",
    "import glob\n",
    "import xml.etree.ElementTree as ET\n",
    "import fnmatch\n",
    "import os,sys\n",
    "import random\n",
    "from PIL import Image"
   ]
  },
  {
   "cell_type": "markdown",
   "metadata": {},
   "source": [
    "Read all Annotations and store in bufffer"
   ]
  },
  {
   "cell_type": "code",
   "execution_count": 7,
   "metadata": {},
   "outputs": [
    {
     "name": "stdout",
     "output_type": "stream",
     "text": [
      "14536\n"
     ]
    }
   ],
   "source": [
    "# Choose train2014 or val2014         \n",
    "# This is specifically for coco dataset because file name ccontains the information that image is in train set\n",
    "# or val set and we search this string in file name to load the annotations\n",
    "#img_set = 'train2014'\n",
    "img_set = 'val2014'\n",
    "\n",
    "# Path where all annotations are stored\n",
    "path = 'Annotations/' + '*.xml' \n",
    "#path = 'test_annotations/' + '*.xml' \n",
    "files = glob.glob(path)\n",
    "print len(files)"
   ]
  },
  {
   "cell_type": "markdown",
   "metadata": {},
   "source": [
    "Crop Images for each class and store it in respective folder and generate labels and store them in labels directory"
   ]
  },
  {
   "cell_type": "code",
   "execution_count": 8,
   "metadata": {},
   "outputs": [
    {
     "name": "stdout",
     "output_type": "stream",
     "text": [
      "Generating Data and Labels............\n",
      "Done.\n"
     ]
    }
   ],
   "source": [
    "print 'Generating Data and Labels............'\n",
    "\n",
    "search_str = '*' + img_set + '*'\n",
    "\n",
    "# chnage destination directory location to where you wants to store the cropped images\n",
    "img_dir = '5_class_dataset/images/' + img_set[:-4] + '/'\n",
    "label_dir = '5_class_dataset/labels/'\n",
    "\n",
    "# create directories if not exist\n",
    "dir = os.path.dirname(img_dir)\n",
    "if not os.path.exists(dir):\n",
    "    os.makedirs(dir)\n",
    "\n",
    "# creating directory for labels\n",
    "dir = os.path.dirname(label_dir)\n",
    "if not os.path.exists(dir):\n",
    "    os.makedirs(dir)\n",
    "        \n",
    "# label file names\n",
    "label_filename = label_dir + img_set[:-4] + '.txt'\n",
    "\n",
    "laptop_state_labels = []\n",
    "scissor_state_labels = []\n",
    "suitcase_state_labels = []\n",
    "toilet_state_labels = []\n",
    "umbrella_state_labels = []\n",
    "\n",
    "#Iterating through each annotation file\n",
    "for infile in files:\n",
    "    # check if train or val annotations\n",
    "    if fnmatch.fnmatch(infile, search_str):\n",
    "        \n",
    "        tree = ET.parse(infile)\n",
    "        root = tree.getroot()\n",
    "        \n",
    "        # Extract image name\n",
    "        filename = root.find('filename').text\n",
    "        file_path = root.find('path').text\n",
    "        \n",
    "        # load the image \n",
    "        img = Image.open(file_path)\n",
    "        \n",
    "        # loop through objects in annotation and extract object name and bbox\n",
    "        objects = root.findall('object')\n",
    "        for idx, obj in enumerate(objects):\n",
    "            name = obj.find('name').text\n",
    "            \n",
    "            # extract class and state info... example: suitcase_openSuitcase\n",
    "            cls, state = name.split('_')\n",
    "            \n",
    "            # extract image patch\n",
    "            bndbox = obj.find('bndbox')\n",
    "            x1 = bndbox.find('xmin').text\n",
    "            y1 = bndbox.find('ymin').text\n",
    "            x2 = bndbox.find('xmax').text\n",
    "            y2 = bndbox.find('ymax').text\n",
    "            \n",
    "            new_img = img.crop((int(x1),int(y1),int(x2),int(y2)))\n",
    "            \n",
    "            # creating new file name for cropped image and save cropped into specific folder\n",
    "            new_name = img_dir + filename + '_' + str(idx) + '.jpg'           \n",
    "            new_img.save(new_name)\n",
    "            \n",
    "            # generating label and appending it to train/ val .txt\n",
    "            # label 0: laptop, 1:scissor, 2:suitcase, 3:toilet, 4: umbrella\n",
    "            label = ''  \n",
    "            with open(label_filename, 'a+') as f:\n",
    "                if 'laptop' in cls:\n",
    "                    label = filename + '_' + str(idx) + '.jpg' + ' ' + '0' + '\\n'\n",
    "                    if 'open' in state:\n",
    "                        st_lbl = filename + '_' + str(idx) + '.jpg' + ' ' + '0' + '\\n'\n",
    "                    else:\n",
    "                        st_lbl = filename + '_' + str(idx) + '.jpg' + ' ' + '1' + '\\n'\n",
    "                    laptop_state_labels.append(st_lbl)\n",
    "                    \n",
    "                elif 'scissor' in cls:\n",
    "                    label = filename + '_' + str(idx) + '.jpg' + ' ' + '1' + '\\n'\n",
    "                    if 'open' in state:\n",
    "                        st_lbl = filename + '_' + str(idx) + '.jpg' + ' ' + '0' + '\\n'\n",
    "                    else:\n",
    "                        st_lbl = filename + '_' + str(idx) + '.jpg' + ' ' + '1' + '\\n'\n",
    "                    scissor_state_labels.append(st_lbl)\n",
    "                    \n",
    "                elif 'suitcase' in cls:\n",
    "                    label = filename + '_' + str(idx) + '.jpg' + ' ' + '2' + '\\n'\n",
    "                    if 'open' in state:\n",
    "                        st_lbl = filename + '_' + str(idx) + '.jpg' + ' ' + '0' + '\\n'\n",
    "                    else:\n",
    "                        st_lbl = filename + '_' + str(idx) + '.jpg' + ' ' + '1' + '\\n'\n",
    "                    suitcase_state_labels.append(st_lbl)\n",
    "                    \n",
    "                elif 'toilet' in cls:\n",
    "                    label = filename + '_' + str(idx) + '.jpg' + ' ' + '3' + '\\n'\n",
    "                    if 'open' in state:\n",
    "                        st_lbl = filename + '_' + str(idx) + '.jpg' + ' ' + '0' + '\\n'\n",
    "                    else:\n",
    "                        st_lbl = filename + '_' + str(idx) + '.jpg' + ' ' + '1' + '\\n'\n",
    "                    toilet_state_labels.append(st_lbl)\n",
    "                    \n",
    "                elif 'umbrella' in cls:\n",
    "                    label = filename + '_' + str(idx) + '.jpg' + ' ' + '4' + '\\n'\n",
    "                    if 'open' in state:\n",
    "                        st_lbl = filename + '_' + str(idx) + '.jpg' + ' ' + '0' + '\\n'\n",
    "                    else:\n",
    "                        st_lbl = filename + '_' + str(idx) + '.jpg' + ' ' + '1' + '\\n'\n",
    "                    umbrella_state_labels.append(st_lbl)\n",
    "                \n",
    "                # writting class labels to train/val .txt\n",
    "                f.write(label)\n",
    "             \n",
    "    \n",
    "print 'Done.'"
   ]
  },
  {
   "cell_type": "code",
   "execution_count": 9,
   "metadata": {},
   "outputs": [],
   "source": [
    "# Writing state labels to correspoding class file for labelling in t-SNE visual\n",
    "laptop_st_fname = label_dir + img_set[:-4] + '_laptop_state.txt'\n",
    "scissor_st_fname = label_dir + img_set[:-4] + '_scissor_state.txt'\n",
    "suitcase_st_fname = label_dir + img_set[:-4] + '_suitcase_state.txt'\n",
    "toilet_st_fname = label_dir + img_set[:-4] + '_toilet_state.txt'\n",
    "umbrella_st_fname = label_dir + img_set[:-4] + '_umbrella_state.txt'\n",
    "\n",
    "with open(laptop_st_fname, 'w+') as f:\n",
    "    for val in laptop_state_labels:\n",
    "        f.write(val)\n",
    "        \n",
    "with open(scissor_st_fname, 'w+') as f:\n",
    "    for val in scissor_state_labels:\n",
    "        f.write(val)\n",
    "        \n",
    "with open(suitcase_st_fname, 'w+') as f:\n",
    "    for val in suitcase_state_labels:\n",
    "        f.write(val)\n",
    "        \n",
    "with open(toilet_st_fname, 'w+') as f:\n",
    "    for val in toilet_state_labels:\n",
    "        f.write(val)\n",
    "        \n",
    "with open(umbrella_st_fname, 'w+') as f:\n",
    "    for val in umbrella_state_labels:\n",
    "        f.write(val)"
   ]
  }
 ],
 "metadata": {
  "kernelspec": {
   "display_name": "Python 2",
   "language": "python",
   "name": "python2"
  },
  "language_info": {
   "codemirror_mode": {
    "name": "ipython",
    "version": 2
   },
   "file_extension": ".py",
   "mimetype": "text/x-python",
   "name": "python",
   "nbconvert_exporter": "python",
   "pygments_lexer": "ipython2",
   "version": "2.7.12"
  }
 },
 "nbformat": 4,
 "nbformat_minor": 2
}
