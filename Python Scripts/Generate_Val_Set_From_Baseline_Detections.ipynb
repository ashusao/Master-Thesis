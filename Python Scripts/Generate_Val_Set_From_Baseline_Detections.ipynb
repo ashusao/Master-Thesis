{
 "cells": [
  {
   "cell_type": "code",
   "execution_count": 1,
   "metadata": {
    "collapsed": true
   },
   "outputs": [],
   "source": [
    "import numpy as np\n",
    "import pandas as pd\n",
    "import matplotlib.pyplot as plt\n",
    "import matplotlib\n",
    "import glob\n",
    "import xml.etree.ElementTree as ET\n",
    "import fnmatch\n",
    "import os,sys\n",
    "import random\n",
    "from PIL import Image"
   ]
  },
  {
   "cell_type": "markdown",
   "metadata": {},
   "source": [
    "- Load Detections file for both open and closed state of object class\n",
    "- Create folders inside the detections directory for storing images and label\n",
    "- Generate labels"
   ]
  },
  {
   "cell_type": "code",
   "execution_count": 23,
   "metadata": {},
   "outputs": [
    {
     "name": "stdout",
     "output_type": "stream",
     "text": [
      "det_val/det_val_laptop_openLaptop.txt\n",
      "det_val/det_val_laptop_closedLaptop.txt\n",
      "(6005, 7) (2786, 7) (8791, 8)\n",
      "                         img_id  confidence     x1     y1     x2     y2  \\\n",
      "6849  COCO_val2014_000000509811         1.0  233.6  256.5  318.8  315.5   \n",
      "3551  COCO_val2014_000000574424         1.0   91.0  303.8  341.2  480.0   \n",
      "8510  COCO_val2014_000000233638         1.0  507.9  173.9  630.5  357.0   \n",
      "4903  COCO_val2014_000000437893         1.0  176.7  257.8  471.5  426.0   \n",
      "1502  COCO_val2014_000000170436         1.0  136.8  195.4  298.0  375.0   \n",
      "\n",
      "      label                          new_id  \n",
      "6849      1  COCO_val2014_000000509811_6849  \n",
      "3551      0  COCO_val2014_000000574424_3551  \n",
      "8510      1  COCO_val2014_000000233638_8510  \n",
      "4903      0  COCO_val2014_000000437893_4903  \n",
      "1502      0  COCO_val2014_000000170436_1502  \n",
      "                         img_id  confidence     x1     y1     x2     y2  \\\n",
      "5099  COCO_val2014_000000424842        0.05  320.1  430.5  632.5  482.4   \n",
      "8612  COCO_val2014_000000410724        0.05  538.1  189.7  629.3  218.9   \n",
      "3907  COCO_val2014_000000011696        0.05  434.7    1.0  640.0  295.4   \n",
      "6897  COCO_val2014_000000423165        0.05  301.9   99.5  568.8  288.1   \n",
      "4662  COCO_val2014_000000137993        0.05   63.8   90.9   82.8  131.7   \n",
      "\n",
      "      label                          new_id  \n",
      "5099      0  COCO_val2014_000000424842_5099  \n",
      "8612      1  COCO_val2014_000000410724_8612  \n",
      "3907      0  COCO_val2014_000000011696_3907  \n",
      "6897      1  COCO_val2014_000000423165_6897  \n",
      "4662      0  COCO_val2014_000000137993_4662  \n",
      "det_val/labels/laptop_val.txt\n"
     ]
    }
   ],
   "source": [
    "# Root folder for Detections\n",
    "det_root = 'det_val'\n",
    "object_name = 'laptop'\n",
    "images_root = '/home/ashu/Study Material/Uni Bonn/4th Semester/Thesis/DataSet/coco-master/JPEGImages/'\n",
    "\n",
    "# creating file name for open and closed state\n",
    "open_file = det_root + '/' + det_root + '_' + object_name + '_' + 'open' + object_name.title() + '.txt'\n",
    "close_file = det_root + '/' + det_root + '_' + object_name + '_' + 'closed' + object_name.title() + '.txt'\n",
    "print open_file\n",
    "print close_file\n",
    "header = ['img_id', 'confidence', 'x1', 'y1', 'x2', 'y2']\n",
    "\n",
    "#load detections of open state\n",
    "open_data = pd.read_csv(open_file, names=header,  delimiter=' ')\n",
    "# Assigning Label to Open state\n",
    "open_data['label'] = 0\n",
    "\n",
    "#load detection of closed state\n",
    "close_data = pd.read_csv(close_file, names=header, delimiter=' ')\n",
    "# Assigning Label to Closed state\n",
    "close_data['label'] = 1\n",
    "\n",
    "# concat open and close into single frame\n",
    "data = pd.concat([open_data, close_data], ignore_index=True)\n",
    "\n",
    "# generate new name for each patch\n",
    "data['new_id'] = data['img_id'].astype(str) + '_' + data.index.astype(str)\n",
    "data = data.sort_values(by=['confidence'], ascending=False)\n",
    "#sanity check\n",
    "#print open_data.head(5)\n",
    "print open_data.shape, close_data.shape, data.shape\n",
    "print data.head(5)\n",
    "print data.tail(5)\n",
    "\n",
    "image_dir = det_root + '/images/' + object_name + '/'\n",
    "if not os.path.exists(image_dir):\n",
    "    os.makedirs(image_dir)\n",
    "        \n",
    "labels_dir = det_root + '/labels/'\n",
    "if not os.path.exists(labels_dir):\n",
    "    os.makedirs(labels_dir)\n",
    "    \n",
    "label_fileName = labels_dir + object_name + '_' + det_root[4:] + '.txt'\n",
    "print label_fileName"
   ]
  },
  {
   "cell_type": "markdown",
   "metadata": {},
   "source": [
    "- Loop through each row and load image\n",
    "- extract the patch\n",
    "- assign new name to patch and save it in images directory\n",
    "- concat name and label into single string and append it in list\n",
    "- perform sanity check number elements in list and data must be same\n",
    "- Dump list to file to generate labels "
   ]
  },
  {
   "cell_type": "code",
   "execution_count": 19,
   "metadata": {},
   "outputs": [
    {
     "name": "stdout",
     "output_type": "stream",
     "text": [
      "17599\n"
     ]
    }
   ],
   "source": [
    "#sample = data.iloc[0:10]\n",
    "#print sample\n",
    "labels_list = []\n",
    "for index, row in data.iterrows():\n",
    "    \n",
    "    # load, crop and save image\n",
    "    img = Image.open(images_root + row['img_id'] + '.jpg')\n",
    "    new_img = img.crop((row['x1'], row['y1'], row['x2'], row['y2']))\n",
    "    new_img.save(image_dir + row['new_id'] + '.jpg')\n",
    "    \n",
    "    # generate labels\n",
    "    lbl = row['new_id'] + '.jpg' + ' ' + str(row['label']) + '\\n'\n",
    "    labels_list.append(lbl)\n",
    "#print labels_list\n",
    "\n",
    "#write labels into file\n",
    "with open(label_fileName, 'w+') as f:\n",
    "    for val in labels_list:\n",
    "        f.write(val)\n",
    "        \n",
    "print len(labels_list)"
   ]
  }
 ],
 "metadata": {
  "kernelspec": {
   "display_name": "Python 2",
   "language": "python",
   "name": "python2"
  },
  "language_info": {
   "codemirror_mode": {
    "name": "ipython",
    "version": 2
   },
   "file_extension": ".py",
   "mimetype": "text/x-python",
   "name": "python",
   "nbconvert_exporter": "python",
   "pygments_lexer": "ipython2",
   "version": "2.7.12"
  }
 },
 "nbformat": 4,
 "nbformat_minor": 2
}
