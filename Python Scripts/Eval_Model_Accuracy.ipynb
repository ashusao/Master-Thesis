{
 "cells": [
  {
   "cell_type": "code",
   "execution_count": 1,
   "metadata": {},
   "outputs": [
    {
     "name": "stdout",
     "output_type": "stream",
     "text": [
      "/home/ashu/Desktop/Thesis Work/Classifier/caffe/models/script\n"
     ]
    }
   ],
   "source": [
    "import os, sys\n",
    "import numpy as np\n",
    "import re\n",
    "import pandas as pd\n",
    "\n",
    "import matplotlib\n",
    "%matplotlib inline\n",
    "#matplotlib.use('Agg')\n",
    "import matplotlib.pyplot as plt\n",
    "\n",
    "plt.style.use('ggplot')\n",
    "\n",
    "caffe_root = '/home/ashu/Desktop/Thesis Work/Classifier/caffe/'\n",
    "print os.getcwd()\n",
    "sys.path.insert(0, caffe_root + 'python')\n",
    "import caffe\n",
    "\n",
    "import argparse\n",
    "\n",
    "from caffe.proto import caffe_pb2\n",
    "import google.protobuf as pb2\n",
    "import google.protobuf.text_format\n",
    "\n",
    "import lmdb\n",
    "from collections import defaultdict\n",
    "from sklearn.metrics import confusion_matrix\n",
    "from sklearn.metrics import accuracy_score\n",
    "from sklearn.metrics import classification_report"
   ]
  },
  {
   "cell_type": "markdown",
   "metadata": {},
   "source": [
    "- Load the labels (val.txt)"
   ]
  },
  {
   "cell_type": "code",
   "execution_count": 26,
   "metadata": {},
   "outputs": [
    {
     "name": "stdout",
     "output_type": "stream",
     "text": [
      "2216 2216\n"
     ]
    }
   ],
   "source": [
    "#Set the path to labels file\n",
    "cls_lbl_file = caffe_root + 'data/gt_data/labels/suitcase_val.txt'\n",
    "# read the labels file\n",
    "with open(cls_lbl_file, 'r') as f:\n",
    "    cls_data=f.readlines()\n",
    "    \n",
    "cls_data = [x.strip() for x in cls_data]\n",
    "\n",
    "# append image name and its label in a dictionary\n",
    "cls_lbl = {}\n",
    "for val in cls_data:\n",
    "    img, lbl = val.split(' ')\n",
    "    cls_lbl[img] = lbl\n",
    "    \n",
    "print len(cls_data), len(cls_lbl)"
   ]
  },
  {
   "cell_type": "markdown",
   "metadata": {},
   "source": [
    "- create prototxt and caffe model filename\n",
    "- create the transformer as well"
   ]
  },
  {
   "cell_type": "markdown",
   "metadata": {},
   "source": [
    "- create 2 list to carry tp and fp for each class\n",
    "- 2D list indexed acc to class label\n",
    "- loop through each file in val txt, load class label and feed fwd image\n",
    "- take predictions and acc to class label update app tp and fp\n",
    "- end all list ll be of unequal size\n",
    "- cal prec and recall at each point and finally compute avg precision"
   ]
  },
  {
   "cell_type": "code",
   "execution_count": 27,
   "metadata": {},
   "outputs": [
    {
     "name": "stdout",
     "output_type": "stream",
     "text": [
      "mean-subtracted values: [('B', 104.0069879317889), ('G', 116.66876761696767), ('R', 122.6789143406786)]\n"
     ]
    }
   ],
   "source": [
    "caffe.set_mode_gpu()\n",
    "\n",
    "img_dir = caffe_root + 'data/gen_data/images/'\n",
    "\n",
    "# Modify the paths given below\n",
    "deploy_prototxt_file_path = caffe_root + 'models/gt_classifier/gen_suitcase/test.prototxt' # Network definition file\n",
    "\n",
    "max_iter = 40000\n",
    "best_iter = 22000\n",
    "\n",
    "caffe_model_file_path = caffe_root + 'models/gt_classifier/gen_suitcase/trained_model' + \\\n",
    "                            '/gen_suitcase_' +  str(max_iter) + \\\n",
    "                            '_iter_' + str(best_iter) + '.caffemodel'\n",
    "    \n",
    "net = caffe.Net(deploy_prototxt_file_path, caffe_model_file_path, caffe.TEST)\n",
    "    \n",
    "# set the transformeer\n",
    "# load the mean ImageNet image (as distributed with Caffe) for subtraction\n",
    "mu = np.load(caffe_root + 'python/caffe/imagenet/ilsvrc_2012_mean.npy')\n",
    "mu = mu.mean(1).mean(1)  # average over pixels to obtain the mean (BGR) pixel values\n",
    "print 'mean-subtracted values:', zip('BGR', mu)\n",
    "\n",
    "# create transformer for the input called 'data'\n",
    "transformer = caffe.io.Transformer({'data': net.blobs['data'].data.shape})\n",
    "\n",
    "transformer.set_transpose('data', (2,0,1))  # move image channels to outermost dimension\n",
    "transformer.set_mean('data', mu)            # subtract the dataset-mean value in each channel\n",
    "transformer.set_raw_scale('data', 255)      # rescale from [0, 1] to [0, 255]\n",
    "transformer.set_channel_swap('data', (2,1,0))  # swap channels from RGB to BGR\n",
    "\n",
    "net.blobs['data'].reshape(1,        # batch size\n",
    "                          3,         # 3-channel (BGR) images\n",
    "                          224, 224)  # image size is 227x227\n",
    "    \n",
    "labels = []\n",
    "plabels = []\n",
    "\n",
    "for k,v in cls_lbl.iteritems():\n",
    "        \n",
    "    # load image, transform and feed forward\n",
    "    image = caffe.io.load_image(img_dir + k)\n",
    "    transformed_image = transformer.preprocess('data', image)\n",
    "    net.blobs['data'].data[...] = transformed_image\n",
    "    output = net.forward()\n",
    "    plabel = int(output['prob'][0].argmax(axis=0))\n",
    "    label = int(v)\n",
    "    labels.append(label)\n",
    "    plabels.append(plabel)"
   ]
  },
  {
   "cell_type": "code",
   "execution_count": 28,
   "metadata": {},
   "outputs": [
    {
     "name": "stdout",
     "output_type": "stream",
     "text": [
      "Accuracy Closed :  0.291967509025\n"
     ]
    }
   ],
   "source": [
    "print 'Accuracy Closed : ', accuracy_score(labels, plabels)"
   ]
  },
  {
   "cell_type": "code",
   "execution_count": 29,
   "metadata": {},
   "outputs": [
    {
     "name": "stdout",
     "output_type": "stream",
     "text": [
      "[[ 134   17]\n",
      " [1552  513]]\n"
     ]
    }
   ],
   "source": [
    "cmat = confusion_matrix(labels, plabels)\n",
    "print cmat"
   ]
  },
  {
   "cell_type": "code",
   "execution_count": 30,
   "metadata": {},
   "outputs": [
    {
     "name": "stdout",
     "output_type": "stream",
     "text": [
      "[ 0.88741722  0.24842615]\n"
     ]
    }
   ],
   "source": [
    "print cmat.diagonal()/cmat.sum(axis=1, dtype=np.float32)"
   ]
  },
  {
   "cell_type": "code",
   "execution_count": 31,
   "metadata": {},
   "outputs": [
    {
     "name": "stdout",
     "output_type": "stream",
     "text": [
      "             precision    recall  f1-score   support\n",
      "\n",
      "       Open       0.08      0.89      0.15       151\n",
      "     Closed       0.97      0.25      0.40      2065\n",
      "\n",
      "avg / total       0.91      0.29      0.38      2216\n",
      "\n"
     ]
    }
   ],
   "source": [
    "print classification_report(labels, plabels, target_names=['Open', 'Closed'])"
   ]
  }
 ],
 "metadata": {
  "kernelspec": {
   "display_name": "Python 2",
   "language": "python",
   "name": "python2"
  },
  "language_info": {
   "codemirror_mode": {
    "name": "ipython",
    "version": 2
   },
   "file_extension": ".py",
   "mimetype": "text/x-python",
   "name": "python",
   "nbconvert_exporter": "python",
   "pygments_lexer": "ipython2",
   "version": "2.7.12"
  }
 },
 "nbformat": 4,
 "nbformat_minor": 2
}
